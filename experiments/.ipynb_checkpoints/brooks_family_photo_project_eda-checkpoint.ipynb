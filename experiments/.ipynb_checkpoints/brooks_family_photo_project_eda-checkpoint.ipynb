{
 "cells": [
  {
   "cell_type": "code",
   "execution_count": null,
   "metadata": {},
   "outputs": [],
   "source": [
    "import pandas as pd\n",
    "import numpy as np\n",
    "import seaborn as sns\n",
    "from matplotlib import pyplot\n",
    "from matplotlib import image\n",
    "\n",
    "import os\n",
    "from os import listdir\n",
    "import PIL\n",
    "import time"
   ]
  },
  {
   "cell_type": "code",
   "execution_count": null,
   "metadata": {},
   "outputs": [],
   "source": [
    "'''\n",
    "\n",
    "TL;DR:\n",
    "\n",
    "The easiest and most efficient way to load an image into NumPy arrays \n",
    "is to load matplotlib imread() function and converting pillow image\n",
    "object \n",
    "\n",
    "'''"
   ]
  },
  {
   "cell_type": "code",
   "execution_count": null,
   "metadata": {},
   "outputs": [],
   "source": [
    "path = (\"/Users/josephwoodall/ds_personal_projects/brooks_family_photo_project/brooks_family_photo_project_original_dataset/jpeg/00a314d4-adc6-460f-873f-1680564195bc-1.jpg\")"
   ]
  },
  {
   "cell_type": "code",
   "execution_count": null,
   "metadata": {},
   "outputs": [],
   "source": [
    "# Importing pillow to load and show the images \n",
    "# Module not to be used in production, only to display image in notebook\n",
    "\n",
    "from PIL import Image\n",
    "\n",
    "pillow_test_image = Image.open(path)\n",
    "\n",
    "# Summarizing details about the image\n",
    "print(pillow_test_image.format)\n",
    "print(pillow_test_image.mode)\n",
    "print(pillow_test_image.size)\n",
    "\n",
    "pillow_test_image.show()"
   ]
  },
  {
   "cell_type": "code",
   "execution_count": null,
   "metadata": {},
   "outputs": [],
   "source": [
    "'''\n",
    "We can obtain the same results as above cell if\n",
    "we convert the images to NumPy arrays and back using matplotlib library.\n",
    "\n",
    "We wont want to open each image, rather, we only need to load it and\n",
    "convert it into a numpy array\n",
    "\n",
    "'''\n",
    "\n",
    "# Loading the image\n",
    "data = image.imread(path)\n",
    "\n",
    "# Summarizing shape of the pixel array\n",
    "print(data.dtype)\n",
    "print(data.shape)\n",
    "\n",
    "# Displaying the array of pixels as an image\n",
    "pyplot.imshow(data)\n",
    "pyplot.show()"
   ]
  },
  {
   "cell_type": "code",
   "execution_count": null,
   "metadata": {
    "scrolled": false
   },
   "outputs": [],
   "source": [
    "\"\"\"\n",
    "\n",
    "The above image has a data type of 8-bit unsigned integers with\n",
    "an array shape of 800 pixels wide by 822 pixels high with 3 channeels (r,g,b)\n",
    "\n",
    "This seems like a normal image, thus easy to manipulate.\n",
    "\n",
    "Let's follow the same approach, but iteratively for all images in a directory\n",
    "\n",
    "\"\"\""
   ]
  },
  {
   "cell_type": "code",
   "execution_count": null,
   "metadata": {},
   "outputs": [],
   "source": [
    "'''\n",
    "\n",
    "Iteratively load images in directory and load them to NumPy Array\n",
    "\n",
    "'''\n",
    "\n",
    "jpeg_dataset_path = ('/Users/josephwoodall/ds_personal_projects/brooks_family_photo_project/brooks_family_photo_project_original_dataset/jpeg')\n",
    "\n",
    "for filename in jpeg_dataset_path:\n",
    "    if filename.endswith('.jpg'):\n",
    "        image.imread()\n",
    "    else:\n",
    "        continue "
   ]
  },
  {
   "cell_type": "code",
   "execution_count": null,
   "metadata": {},
   "outputs": [],
   "source": [
    "'''\n",
    "Loading all images in a directory as a list, if needed in future\n",
    "'''\n",
    "\n",
    "loaded_images = list()\n",
    "\n",
    "for filename in listdir('images'):\n",
    "    img_data = image.imread('images/' + filename) # load image\n",
    "    loaded_images.append(img_data) # store loaded image\n",
    "    print('> loaded %s %s' & (filename, img_data.shape))"
   ]
  }
 ],
 "metadata": {
  "kernelspec": {
   "display_name": "Python 3",
   "language": "python",
   "name": "python3"
  },
  "language_info": {
   "codemirror_mode": {
    "name": "ipython",
    "version": 3
   },
   "file_extension": ".py",
   "mimetype": "text/x-python",
   "name": "python",
   "nbconvert_exporter": "python",
   "pygments_lexer": "ipython3",
   "version": "3.8.3"
  }
 },
 "nbformat": 4,
 "nbformat_minor": 4
}
