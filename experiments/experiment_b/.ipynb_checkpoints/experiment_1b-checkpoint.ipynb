{
 "cells": [
  {
   "cell_type": "code",
   "execution_count": 1,
   "metadata": {},
   "outputs": [
    {
     "data": {
      "text/plain": [
       "'\\n\\nFace Recognition Using Unlabeled Data\\nCarmen Mart´ınez and Olac Fuentes\\nInstituto Nacional de Astrof´ısica, Optica y Electr ´ onica ´\\nLuis Enrique Erro # 1\\nSanta Mar´ıa Tonanzintla, Puebla, 72840, Mexico ´\\ncarmen@ccc.inaoep.mx, fuentes@inaoep.mx\\n\\n\\nFace recognition systems can normally attain good accuracy when they are provided with a large set of training\\nexamples. However, when a large training set is not available, their performance is commonly poor. In this work\\nwe describe a method for face recognition that achieves\\ngood results when only a very small training set is available (it can work with a training set as small as one image\\nper person). The method is based on augmenting the original training set with previously unlabeled data (that is, face\\nimages for which the identity of the person is not known).\\nInitially, we apply the well-known eigenfaces technique to\\nreduce the dimensionality of the image space, then we perform an iterative process, classifying all the unlabeled data\\nwith an ensemble of classifiers built from the current training set, and appending to the training set the previously\\nunlabeled examples that are believed to be correctly classified with a high confidence level, according to the ensemble. We experimented with ensembles based on the\\nk-nearest-neighbors, feedforward artificial neural networks\\nand locally weighted linear regression learning algorithms.\\nOur experimental results show that using unlabeled data\\nimproves the accuracy in all cases. The best accuracy,\\n92.07%, was obtained with locally weighted linear regression using 30 eigenfaces and appending 3 examples of every class in each iteration. In contrast, using only labeled\\ndata, an accuracy of only 34.81% was obtained .\\n\\n\\n'"
      ]
     },
     "execution_count": 1,
     "metadata": {},
     "output_type": "execute_result"
    }
   ],
   "source": [
    "'''\n",
    "\n",
    "Face Recognition Using Unlabeled Data\n",
    "Carmen Mart´ınez and Olac Fuentes\n",
    "Instituto Nacional de Astrof´ısica, Optica y Electr ´ onica ´\n",
    "Luis Enrique Erro # 1\n",
    "Santa Mar´ıa Tonanzintla, Puebla, 72840, Mexico ´\n",
    "carmen@ccc.inaoep.mx, fuentes@inaoep.mx\n",
    "\n",
    "\n",
    "Face recognition systems can normally attain good accuracy when they are provided with a large set of training\n",
    "examples. However, when a large training set is not available, their performance is commonly poor. In this work\n",
    "we describe a method for face recognition that achieves\n",
    "good results when only a very small training set is available (it can work with a training set as small as one image\n",
    "per person). The method is based on augmenting the original training set with previously unlabeled data (that is, face\n",
    "images for which the identity of the person is not known).\n",
    "Initially, we apply the well-known eigenfaces technique to\n",
    "reduce the dimensionality of the image space, then we perform an iterative process, classifying all the unlabeled data\n",
    "with an ensemble of classifiers built from the current training set, and appending to the training set the previously\n",
    "unlabeled examples that are believed to be correctly classified with a high confidence level, according to the ensemble. We experimented with ensembles based on the\n",
    "k-nearest-neighbors, feedforward artificial neural networks\n",
    "and locally weighted linear regression learning algorithms.\n",
    "Our experimental results show that using unlabeled data\n",
    "improves the accuracy in all cases. The best accuracy,\n",
    "92.07%, was obtained with locally weighted linear regression using 30 eigenfaces and appending 3 examples of every class in each iteration. In contrast, using only labeled\n",
    "data, an accuracy of only 34.81% was obtained .\n",
    "\n",
    "\n",
    "'''"
   ]
  },
  {
   "cell_type": "code",
   "execution_count": 2,
   "metadata": {},
   "outputs": [],
   "source": [
    "data = '/Users/josephwoodall/ds_personal_projects/brooks_family_photo_project/brooks_family_photo_project_original_dataset/jpeg/model_images'"
   ]
  }
 ],
 "metadata": {
  "kernelspec": {
   "display_name": "Python 3",
   "language": "python",
   "name": "python3"
  },
  "language_info": {
   "codemirror_mode": {
    "name": "ipython",
    "version": 3
   },
   "file_extension": ".py",
   "mimetype": "text/x-python",
   "name": "python",
   "nbconvert_exporter": "python",
   "pygments_lexer": "ipython3",
   "version": "3.8.3"
  }
 },
 "nbformat": 4,
 "nbformat_minor": 4
}
