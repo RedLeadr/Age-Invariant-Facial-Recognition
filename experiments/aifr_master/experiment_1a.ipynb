{
 "cells": [
  {
   "cell_type": "code",
   "execution_count": 1,
   "metadata": {},
   "outputs": [
    {
     "data": {
      "text/plain": [
       "'\\n\\nThe following experiment follows the below architecture, in order:\\n\\ninput\\nlayer 1: convolution\\nlayer 2: pooling\\nlayer 3: convolution\\nlayer 4: pooling\\nlayer 5: convolution\\nlayer 6: fully connected\\nlayer 7: fully connected\\noutput\\n\\n'"
      ]
     },
     "execution_count": 1,
     "metadata": {},
     "output_type": "execute_result"
    }
   ],
   "source": [
    "\"\"\"\n",
    "\n",
    "The following experiment follows the below architecture, in order:\n",
    "\n",
    "Image Preprocessing:\n",
    "Face detection and cropping\n",
    "rgb -> gray\n",
    "face resize to 32x32\n",
    "\n",
    "|\n",
    "v\n",
    "\n",
    "Feature extraction:\n",
    "input\n",
    "layer 1: convolution\n",
    "layer 2: pooling\n",
    "layer 3: convolution\n",
    "layer 4: pooling\n",
    "layer 5: convolution\n",
    "layer 6: fully connected\n",
    "layer 7: fully connected\n",
    "output\n",
    "\n",
    "|\n",
    "v\n",
    "\n",
    "Classification: \n",
    "(experiment_1a)-> Logistic Regression\n",
    "(experiment_2a)-> Support Vector Machine\n",
    "(experiment_3a)-> Euclidean Distance Nearest Neighbors\n",
    "\n",
    "Following the cnn, we use a classification technique:\n",
    "\n",
    "Support Vector Machine\n",
    "\"\"\""
   ]
  },
  {
   "cell_type": "code",
   "execution_count": null,
   "metadata": {},
   "outputs": [],
   "source": [
    "# Importing the Keras library to build the cnn \n"
   ]
  }
 ],
 "metadata": {
  "kernelspec": {
   "display_name": "Python 3",
   "language": "python",
   "name": "python3"
  },
  "language_info": {
   "codemirror_mode": {
    "name": "ipython",
    "version": 3
   },
   "file_extension": ".py",
   "mimetype": "text/x-python",
   "name": "python",
   "nbconvert_exporter": "python",
   "pygments_lexer": "ipython3",
   "version": "3.8.3"
  }
 },
 "nbformat": 4,
 "nbformat_minor": 4
}
