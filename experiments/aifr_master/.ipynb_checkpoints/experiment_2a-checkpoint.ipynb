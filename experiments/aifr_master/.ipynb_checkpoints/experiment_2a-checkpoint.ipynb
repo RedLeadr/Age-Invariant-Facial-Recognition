{
 "cells": [
  {
   "cell_type": "code",
   "execution_count": 1,
   "metadata": {
    "scrolled": true
   },
   "outputs": [
    {
     "data": {
      "text/plain": [
       "'\\n\\nThe following experiment follows the below architecture, in order:\\n\\nImage Preprocessing: Face detection and cropping\\nrgb -> gray\\nface resize to 32x32\\n\\n|\\nv\\n\\nFeature extraction: Create Face Embeddings\\ninput\\nlayer 1: convolution\\nlayer 2: pooling\\nlayer 3: convolution\\nlayer 4: pooling\\nlayer 5: convolution\\nlayer 6: fully connected\\nlayer 7: fully connected\\noutput\\n\\nClassification: Perform Face Classification\\n(experiment_1a)-> Logistic Regression\\n(experiment_2a)-> Support Vector Machine\\n(experiment_3a)-> Euclidean Distance Nearest Neighbors\\n\\nFollowing the cnn, we use a classification technique:\\n\\nSupport Vector Machine\\n'"
      ]
     },
     "execution_count": 1,
     "metadata": {},
     "output_type": "execute_result"
    }
   ],
   "source": [
    "\"\"\"\n",
    "\n",
    "The following experiment follows the below architecture, in order:\n",
    "\n",
    "Image Preprocessing: Face detection and cropping\n",
    "rgb -> gray\n",
    "face resize to 32x32\n",
    "\n",
    "|\n",
    "v\n",
    "\n",
    "Feature extraction: Create Face Embeddings\n",
    "input\n",
    "layer 1: convolution\n",
    "layer 2: pooling\n",
    "layer 3: convolution\n",
    "layer 4: pooling\n",
    "layer 5: convolution\n",
    "layer 6: fully connected\n",
    "layer 7: fully connected\n",
    "output\n",
    "\n",
    "Classification: Perform Face Classification\n",
    "(experiment_1a)-> Logistic Regression\n",
    "(experiment_2a)-> Support Vector Machine\n",
    "(experiment_3a)-> Euclidean Distance Nearest Neighbors\n",
    "\n",
    "Following the cnn, we use a classification technique:\n",
    "\n",
    "Support Vector Machine\n",
    "\"\"\""
   ]
  },
  {
   "cell_type": "code",
   "execution_count": 31,
   "metadata": {},
   "outputs": [],
   "source": [
    "# Importing the libraries\n",
    "\n",
    "import numpy as np\n",
    "import tensorflow as tf\n",
    "from tensorflow import keras\n",
    "\n",
    "import cv2 as cv\n",
    "import dlib\n",
    "\n",
    "import glob\n",
    "import os\n",
    "from os import listdir\n",
    "from PIL import Image\n",
    "from numpy import asarray\n",
    "import matplotlib.pyplot as plt\n",
    "from mtcnn.mtcnn import MTCNN"
   ]
  },
  {
   "cell_type": "code",
   "execution_count": 32,
   "metadata": {},
   "outputs": [],
   "source": [
    "# path to jpeg dataset \n",
    "base_dir = '/Users/josephwoodall/ds_personal_projects/brooks_family_photo_project/brooks_family_photo_original_dataset/jpeg' "
   ]
  },
  {
   "cell_type": "markdown",
   "metadata": {},
   "source": [
    "## CNN"
   ]
  },
  {
   "cell_type": "code",
   "execution_count": 54,
   "metadata": {},
   "outputs": [
    {
     "data": {
      "text/plain": [
       "'\\n\\nFeature extraction: \\ninput\\nlayer 1: convolution\\nlayer 2: pooling\\nlayer 3: convolution\\nlayer 4: pooling\\nlayer 5: convolution\\nlayer 6: fully connected\\nlayer 7: fully connected\\noutput \\n\\nClassification: \\n(experiment_1a)-> Logistic Regression\\n(experiment_2a)-> Support Vector Machine\\n(experiment_3a)-> Euclidean Distance Nearest Neighbors\\n\\n'"
      ]
     },
     "execution_count": 54,
     "metadata": {},
     "output_type": "execute_result"
    }
   ],
   "source": [
    "'''\n",
    "\n",
    "Feature extraction: \n",
    "input\n",
    "layer 1: convolution\n",
    "layer 2: pooling\n",
    "layer 3: convolution\n",
    "layer 4: pooling\n",
    "layer 5: convolution\n",
    "layer 6: fully connected\n",
    "layer 7: fully connected\n",
    "output \n",
    "\n",
    "Classification: \n",
    "(experiment_1a)-> Logistic Regression\n",
    "(experiment_2a)-> Support Vector Machine\n",
    "(experiment_3a)-> Euclidean Distance Nearest Neighbors\n",
    "\n",
    "'''\n"
   ]
  },
  {
   "cell_type": "code",
   "execution_count": null,
   "metadata": {},
   "outputs": [],
   "source": [
    "# Saving the model with weights\n",
    "\n",
    "PATH = '/Users/josephwoodall/ds_personal_projects/brooks_family_photo_project/models'\n",
    "torch.save(net.state_dict(), PATH)"
   ]
  }
 ],
 "metadata": {
  "kernelspec": {
   "display_name": "Python 3",
   "language": "python",
   "name": "python3"
  },
  "language_info": {
   "codemirror_mode": {
    "name": "ipython",
    "version": 3
   },
   "file_extension": ".py",
   "mimetype": "text/x-python",
   "name": "python",
   "nbconvert_exporter": "python",
   "pygments_lexer": "ipython3",
   "version": "3.8.3"
  }
 },
 "nbformat": 4,
 "nbformat_minor": 4
}
